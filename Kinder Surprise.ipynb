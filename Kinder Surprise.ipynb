{
 "cells": [
  {
   "cell_type": "markdown",
   "metadata": {},
   "source": [
    "# Коллекция львят"
   ]
  },
  {
   "cell_type": "markdown",
   "metadata": {},
   "source": [
    "<img src=\"http://victoria.tc.ca/~quantum/leo.jpg\"/>\n"
   ]
  },
  {
   "cell_type": "markdown",
   "metadata": {},
   "source": [
    "У каждого они были, но я не видел человека, который собрал бы их всех. А ведь интересно, сколько усилий для этого нужно? И реально ли это вообще?"
   ]
  },
  {
   "cell_type": "markdown",
   "metadata": {},
   "source": [
    "### Модель"
   ]
  },
  {
   "cell_type": "markdown",
   "metadata": {},
   "source": [
    "Пусть у нас уже есть часть коллекции и я покупаю очередное яйцо. С вероятностью $p$ там окажется один из львят. Но с вероятностью $q = 1 - p$ там оказывается левая сборная игрушка типа такой:\n",
    "\n",
    "<img src=\"http://nerdywithchildren.com/wp-content/uploads/2013/08/5875976204_8e2f27a421_z.jpg\" width=\"200px\" align=\"left\" margin=\"50px\"/>\n",
    "\n",
    "К победе это нас нисколько не приблизит. Если же нам попался львенок, то каждую игрушку коллекции я считаю равновероятной. Понятно как обобщить модель на разные вероятности, но таких данных у меня нет, а параметров будет слишком много, чтобы можно было как-то прицениться. В общем, такой подставы, как разные вероятности элементов коллекции ,я сейчас не ожидаю.\n",
    "\n",
    "Тогда:\n",
    "<div border=\"2px solid black\" outline=\"black solid 5px\">\n",
    "$\\mathbb{P}(i, n) = \\mathbb{P}(i, n - 1) [q + p \\frac{i}{k}] +$\n",
    "$\\mathbb{P}(i - 1, n - 1) [p \\frac{k - i + 1}{k}]$, \n",
    "$\\mathbb{P}(0, 1) = 0$, \n",
    "$\\mathbb{P}(0, 0) = 1$\n",
    "</div>\n",
    "\n",
    "Где $\\mathbb{P}(i, n)$ - вероятность получить ровно $0 < i \\leq k$ львят за ровно $n > 0$ покупок. А $k$ - общее количество элементов коллекции."
   ]
  },
  {
   "cell_type": "markdown",
   "metadata": {},
   "source": [
    "### Сколько же нужно купить"
   ]
  },
  {
   "cell_type": "markdown",
   "metadata": {},
   "source": [
    "На данный вопрос нам ответит expected value. Но свернуть сумму с рекуретным выражением, чтобы явно его посчитать проблематично. Поэтому, пойдем другим путем: определим сколько яиц нужно купить, чтобы получить очередной элемент коллекции. Когда $i$ фиксировано - это простой эксперимент Бернулли: либо получилось, либо нет. С константой вероятностью (она поменяется только на следующем шаге). Мат ожидание такой величины известно: $1/\\mathbb{P}$ [если $\\mathbb{P} = 1/n$, то в среднем нужно купить $n$ яиц]. А так как шаги независимы - просуммируем их."
   ]
  },
  {
   "cell_type": "markdown",
   "metadata": {},
   "source": [
    "Если уже есть $i$ львят, то следующий достанется с вероятностью $\\mathbb{P} = p \\frac{k - i}{k}$"
   ]
  },
  {
   "cell_type": "code",
   "execution_count": 43,
   "metadata": {
    "collapsed": true
   },
   "outputs": [],
   "source": [
    "def expect_value(k, p):\n",
    "    steps = [k / p / (k - i)  for i in range(k)]\n",
    "    return sum(steps)"
   ]
  },
  {
   "cell_type": "code",
   "execution_count": 66,
   "metadata": {
    "collapsed": false
   },
   "outputs": [
    {
     "data": {
      "text/plain": [
       "array([  29.28968254,   58.57936508,   88.75661376,  117.15873016,\n",
       "        146.4484127 ,  292.8968254 ])"
      ]
     },
     "execution_count": 66,
     "metadata": {},
     "output_type": "execute_result"
    },
    {
     "data": {
      "image/png": "[encoded data removed]",
      "text/plain": [
       "<matplotlib.figure.Figure at 0x10e3b4350>"
      ]
     },
     "metadata": {},
     "output_type": "display_data"
    }
   ],
   "source": [
    "k = 10\n",
    "ps = [1., .5, .33, .25, .2, .1]\n",
    "count = np.vectorize(lambda p: expect_value(k, p), otypes=[np.float])(ps)\n",
    "plt.scatter(ps, count)\n",
    "plt.xlabel('Lion probability')\n",
    "plt.ylabel('Purchase count')\n",
    "count"
   ]
  },
  {
   "cell_type": "markdown",
   "metadata": {},
   "source": [
    "Если бы в каждом яйце был львенок, нужно было бы в среднем купить 29.29 яиц, чтобы собрать коллекцию. Но когда львенок в каждом третьем - это уже 88.76 яиц."
   ]
  },
  {
   "cell_type": "markdown",
   "metadata": {},
   "source": [
    "### Каковы же мои шансы?"
   ]
  },
  {
   "cell_type": "markdown",
   "metadata": {},
   "source": [
    "Expectation хороший ориентир, но он недостаточно хорошо отвечает на вопрос. Ведь человек, купивший 100 яиц может и не собрать коллецию, тогда он навсегда может разочароваться в математике. Обычно в таких случаях используют интервальные оценки. Но ответ, что с 95% вероятностью нужно купить от X до Y яиц озадачит еще больше. Так сколько же нужно брать?"
   ]
  },
  {
   "cell_type": "markdown",
   "metadata": {},
   "source": [
    "Понятно, что можно быть очень удачливым и уложиться в 10 покупок. А можно не собрать коллекцию и за 10000 попыток - вероятность такого события не нулевая. Поэтому нарисуем график количество попыток - вероятность собрать коллекцию. Таким образом, можно будет определить для себя вероятность: хочу собрать коллецию с 80% вероятностью и понять сколько нужно брать? Или определить бюджет: есть $100, какова вероятность собрать коллекцию? То есть, нарисуем CDF."
   ]
  },
  {
   "cell_type": "code",
   "execution_count": 64,
   "metadata": {
    "collapsed": true
   },
   "outputs": [],
   "source": [
    "def prob(N, k, p):\n",
    "    q = 1. - p\n",
    "    dynamic_table = np.zeros((N + 1) * (k + 1)).reshape(k + 1, N + 1)\n",
    "    for n in range(N + 1):\n",
    "        dynamic_table[0][n] = q ** n\n",
    "    for n in xrange(1, N + 1):\n",
    "        for i in range(1, k + 1):\n",
    "            dynamic_table[i][n] = \\\n",
    "                dynamic_table[i][n - 1] * (p * float(i) / k + q) + \\\n",
    "                dynamic_table[i - 1][n - 1] * p * float(k - i + 1) / k\n",
    "    return dynamic_table[k]"
   ]
  },
  {
   "cell_type": "markdown",
   "metadata": {},
   "source": [
    "Я видел, что задача о коллекционере для $p = 1$ разобрана на хабре, но там все магическим образом сведено с ряду Стирлинга 2ого рода с поправочным коэффициентом. Считать заведомо большее число не хочется, чтобы не словить сложностей с большими float'ами. А на асимптотике вроде выигрыша вроде нет, так как здесь нужно точное значение факториала, а не его приближение. Раз есть красивая формула выше, можно сделать простой динамикой."
   ]
  },
  {
   "cell_type": "code",
   "execution_count": 65,
   "metadata": {
    "collapsed": false
   },
   "outputs": [
    {
     "data": {
      "text/plain": [
       "<matplotlib.legend.Legend at 0x10f0d1e90>"
      ]
     },
     "execution_count": 65,
     "metadata": {},
     "output_type": "execute_result"
    },
    {
     "data": {
      "image/png": "[encoded data removed]",
      "text/plain": [
       "<matplotlib.figure.Figure at 0x10e3b4190>"
      ]
     },
     "metadata": {},
     "output_type": "display_data"
    }
   ],
   "source": [
    "N = 200\n",
    "k = 10\n",
    "plt.plot(prob(N, k, 1.), label='p = 1')\n",
    "plt.plot(prob(N, k, 0.5), label='p = 0.5')\n",
    "plt.plot(prob(N, k, 0.33), label='p = 0.33')\n",
    "plt.ylabel('Probability')\n",
    "plt.xlabel('Kinder surprises')\n",
    "plt.legend()"
   ]
  },
  {
   "cell_type": "markdown",
   "metadata": {},
   "source": [
    "Чтобы при $p = 0.33$ собрать коллецию с вероятностью ~80% нужно купить 115 яиц."
   ]
  },
  {
   "cell_type": "code",
   "execution_count": 75,
   "metadata": {
    "collapsed": false
   },
   "outputs": [
    {
     "data": {
      "text/plain": [
       "(115, 0.80589016974706185)"
      ]
     },
     "execution_count": 75,
     "metadata": {},
     "output_type": "execute_result"
    }
   ],
   "source": [
    "purchase_prob = prob(150, 10, 0.33)\n",
    "count = np.argwhere(purchase_prob >= 0.8).min()\n",
    "count, purchase_prob[count]"
   ]
  },
  {
   "cell_type": "markdown",
   "metadata": {},
   "source": [
    "### Численный эксперимент"
   ]
  },
  {
   "cell_type": "markdown",
   "metadata": {},
   "source": [
    "Хорошо, график CDF есть. Но распределение понятнее, когда есть график плотности. Проведем численный эксперимет, чтобы проверить результаты и заодно нарисуем PDF."
   ]
  },
  {
   "cell_type": "markdown",
   "metadata": {},
   "source": [
    "Отчаяно покупаем пока не соберется вся коллекция."
   ]
  },
  {
   "cell_type": "code",
   "execution_count": 107,
   "metadata": {
    "collapsed": false
   },
   "outputs": [],
   "source": [
    "def simulation(k, p):\n",
    "    lion_collection = set()\n",
    "    toy_type_dist = stats.bernoulli(p)\n",
    "    lion_dist = stats.randint(0, k)\n",
    "    purchaes_counter = 0\n",
    "    while len(lion_collection) < k:\n",
    "        purchaes_counter += 1\n",
    "        if toy_type_dist.rvs() == 1:\n",
    "            lion_collection.add(lion_dist.rvs())\n",
    "    return purchaes_counter"
   ]
  },
  {
   "cell_type": "code",
   "execution_count": 114,
   "metadata": {
    "collapsed": true
   },
   "outputs": [],
   "source": [
    "purchases = np.vectorize(lambda iteration: simulation(10, .33))(np.arange(10000))"
   ]
  },
  {
   "cell_type": "code",
   "execution_count": 115,
   "metadata": {
    "collapsed": false
   },
   "outputs": [
    {
     "data": {
      "text/plain": [
       "<matplotlib.axes._subplots.AxesSubplot at 0x110ac0710>"
      ]
     },
     "execution_count": 115,
     "metadata": {},
     "output_type": "execute_result"
    },
    {
     "data": {
      "image/png": "[encoded data removed]",
      "text/plain": [
       "<matplotlib.figure.Figure at 0x110a98250>"
      ]
     },
     "metadata": {},
     "output_type": "display_data"
    }
   ],
   "source": [
    "plt.plot(sp.diff(prob(250, 10, 0.33)))\n",
    "sns.distplot(purchases)"
   ]
  },
  {
   "cell_type": "markdown",
   "metadata": {},
   "source": [
    "### Важные выводы"
   ]
  },
  {
   "cell_type": "markdown",
   "metadata": {},
   "source": [
    "Кого сильно пробило на ностальгию, могут за 500 руб купить коллецию на ebay, например [здесь]( http://www.ebay.com/itm/KINDER-SURPRISE-SET-LEO-VENTURAS-LIONS-ADVENTURE-1993-FIGURES-COLLECTIBLES-/251510901727?hash=item3a8f37cbdf:g:2YoAAOxyF19SEC9K).\n",
    "\n",
    "При цене одного яйца в [утконосе](http://www.utkonos.ru/item/3217164) в 259 руб очевидно, что антиквариат из них так себе, и денег на продаже собранных коллекций не поднять."
   ]
  },
  {
   "cell_type": "markdown",
   "metadata": {},
   "source": [
    "### Imports"
   ]
  },
  {
   "cell_type": "code",
   "execution_count": 6,
   "metadata": {
    "collapsed": true
   },
   "outputs": [],
   "source": [
    "from matplotlib import pyplot as plt\n",
    "import seaborn as sns\n",
    "import numpy as np\n",
    "import scipy as sp\n",
    "import scipy.stats as stats\n",
    "%matplotlib inline"
   ]
  }
 ],
 "metadata": {
  "kernelspec": {
   "display_name": "Python 2",
   "language": "python",
   "name": "python2"
  },
  "language_info": {
   "codemirror_mode": {
    "name": "ipython",
    "version": 2
   },
   "file_extension": ".py",
   "mimetype": "text/x-python",
   "name": "python",
   "nbconvert_exporter": "python",
   "pygments_lexer": "ipython2",
   "version": "2.7.11"
  }
 },
 "nbformat": 4,
 "nbformat_minor": 0
}
