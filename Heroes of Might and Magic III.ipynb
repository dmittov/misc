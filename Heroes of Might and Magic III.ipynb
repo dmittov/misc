{
 "cells": [
  {
   "cell_type": "markdown",
   "metadata": {},
   "source": [
    "Увидел у Игоря Викторовича в vk отличный пост: https://vk.com/wall137669108_516"
   ]
  },
  {
   "cell_type": "markdown",
   "metadata": {},
   "source": [
    "![](https://pp.vk.me/c836220/v836220336/1fb0/GIzcsk2VWZ4.jpg)"
   ]
  },
  {
   "cell_type": "code",
   "execution_count": 1,
   "metadata": {
    "collapsed": true
   },
   "outputs": [],
   "source": [
    "import scipy.optimize\n",
    "import numpy as np"
   ]
  },
  {
   "cell_type": "code",
   "execution_count": 2,
   "metadata": {
    "collapsed": true
   },
   "outputs": [],
   "source": [
    "coins = int(2 * 1e5)\n",
    "gems = 115\n",
    "mercury = 80\n",
    "distant_min_power = 4000\n",
    "air_min_power = 2000\n",
    "gem_price = 500"
   ]
  },
  {
   "cell_type": "markdown",
   "metadata": {},
   "source": [
    "X = [Титан, Нага, Джинн, Маг, Голем, Горгулья, Гремлин, Проданные камни]"
   ]
  },
  {
   "cell_type": "code",
   "execution_count": 3,
   "metadata": {
    "collapsed": false
   },
   "outputs": [],
   "source": [
    "loss_function = [-300, -120, -60, -40, -35, -20, -4, 0]"
   ]
  },
  {
   "cell_type": "code",
   "execution_count": 4,
   "metadata": {
    "collapsed": false
   },
   "outputs": [],
   "source": [
    "A = [[-300, 0, 0, -40, 0, 0, -4, 0], # distant\n",
    "     [0, 0, -60, 0, 0, -20, 0, 0], # air\n",
    "     [1, 0, 1, 1, 1, 0, 0, 0], # mercury\n",
    "     [3, 2, 1, 1, 0, 0, 0, 1], # gems\n",
    "     [5000, 1500, 750, 500, 400, 200, 70, -gem_price], # coins\n",
    "     [1, 0, 0, 0, 0, 0, 0, 0], # titan\n",
    "     [0, 1, 0, 0, 0, 0, 0, 0], # naga\n",
    "     [0, 0, 1, 0, 0, 0, 0, 0], # djinn\n",
    "     [0, 0, 0, 1, 0, 0, 0, 0], # mage\n",
    "     [0, 0, 0, 0, 1, 0, 0, 0], # golem\n",
    "     [0, 0, 0, 0, 0, 1, 0, 0], # gargoyle\n",
    "     [0, 0, 0, 0, 0, 0, 1, 0], # gremlin\n",
    "    ]\n",
    "b = [-distant_min_power, -air_min_power, mercury, gems, coins, 10, 20, 30, 55, 60, 110, 500]"
   ]
  },
  {
   "cell_type": "code",
   "execution_count": 5,
   "metadata": {
    "collapsed": false
   },
   "outputs": [
    {
     "name": "stdout",
     "output_type": "stream",
     "text": [
      "CPU times: user 20.9 ms, sys: 5.14 ms, total: 26 ms\n",
      "Wall time: 22.7 ms\n"
     ]
    }
   ],
   "source": [
    "%%time\n",
    "result = scipy.optimize.linprog(loss_function, A, b)"
   ]
  },
  {
   "cell_type": "markdown",
   "metadata": {},
   "source": [
    "Решение найдено почти мгновенно."
   ]
  },
  {
   "cell_type": "code",
   "execution_count": 6,
   "metadata": {
    "collapsed": false
   },
   "outputs": [
    {
     "data": {
      "text/plain": [
       "     fun: -12875.0\n",
       " message: 'Optimization terminated successfully.'\n",
       "     nit: 13\n",
       "   slack: array([  1600.,   2000.,  23000.,      0.,      0.,      0.,     40.,\n",
       "            0.,      0.,     35.,      0.,      0.])\n",
       "  status: 0\n",
       " success: True\n",
       "       x: array([  10.,   20.,   30.,   15.,   25.,  110.,  500.,    0.])"
      ]
     },
     "execution_count": 6,
     "metadata": {},
     "output_type": "execute_result"
    }
   ],
   "source": [
    "result"
   ]
  },
  {
   "cell_type": "markdown",
   "metadata": {},
   "source": [
    "Последний элемент ответа 0 - камни продавать не нужно. Сила набранной армии: 12875.\n",
    "\n",
    "Сила существ дальнего боя / воздушной армии:"
   ]
  },
  {
   "cell_type": "code",
   "execution_count": 7,
   "metadata": {
    "collapsed": false
   },
   "outputs": [
    {
     "data": {
      "text/plain": [
       "(5600.0, 4000.0)"
      ]
     },
     "execution_count": 7,
     "metadata": {},
     "output_type": "execute_result"
    }
   ],
   "source": [
    "-np.dot(result.x, np.array(A[0])), -np.dot(result.x, A[1])"
   ]
  },
  {
   "cell_type": "markdown",
   "metadata": {},
   "source": [
    "Затраченные ресурсы:"
   ]
  },
  {
   "cell_type": "code",
   "execution_count": 8,
   "metadata": {
    "collapsed": false
   },
   "outputs": [
    {
     "data": {
      "text/plain": [
       "(177000.0, 115.0, 80.0)"
      ]
     },
     "execution_count": 8,
     "metadata": {},
     "output_type": "execute_result"
    }
   ],
   "source": [
    "np.dot(result.x, A[4]), np.dot(result.x, A[3]), np.dot(result.x, A[2])"
   ]
  },
  {
   "cell_type": "markdown",
   "metadata": {},
   "source": [
    "Ртуть и камни потратили полностью, монеты еще остались."
   ]
  }
 ],
 "metadata": {
  "kernelspec": {
   "display_name": "Python 2",
   "language": "python",
   "name": "python2"
  },
  "language_info": {
   "codemirror_mode": {
    "name": "ipython",
    "version": 2
   },
   "file_extension": ".py",
   "mimetype": "text/x-python",
   "name": "python",
   "nbconvert_exporter": "python",
   "pygments_lexer": "ipython2",
   "version": "2.7.12"
  }
 },
 "nbformat": 4,
 "nbformat_minor": 1
}
