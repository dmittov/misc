{
 "cells": [
  {
   "cell_type": "markdown",
   "metadata": {},
   "source": [
    "Увидел у Игоря Викторовича в vk отличный пост: https://vk.com/wall137669108_516"
   ]
  },
  {
   "cell_type": "markdown",
   "metadata": {},
   "source": [
    "### Problem"
   ]
  },
  {
   "cell_type": "markdown",
   "metadata": {},
   "source": [
    "![](https://pp.vk.me/c836220/v836220336/1fb0/GIzcsk2VWZ4.jpg)"
   ]
  },
  {
   "cell_type": "markdown",
   "metadata": {},
   "source": [
    "### Simple solution in continuous space"
   ]
  },
  {
   "cell_type": "code",
   "execution_count": 1,
   "metadata": {
    "collapsed": true
   },
   "outputs": [],
   "source": [
    "import scipy.optimize\n",
    "import numpy as np\n",
    "import pandas as pd"
   ]
  },
  {
   "cell_type": "code",
   "execution_count": 2,
   "metadata": {
    "collapsed": true
   },
   "outputs": [],
   "source": [
    "gold = int(2 * 1e5)\n",
    "gems = 115\n",
    "mercury = 80\n",
    "distant_min_health = 4000\n",
    "air_min_health = 2000\n",
    "gem_price = 500"
   ]
  },
  {
   "cell_type": "code",
   "execution_count": 3,
   "metadata": {
    "collapsed": false
   },
   "outputs": [
    {
     "data": {
      "text/html": [
       "<div>\n",
       "<table border=\"1\" class=\"dataframe\">\n",
       "  <thead>\n",
       "    <tr style=\"text-align: right;\">\n",
       "      <th></th>\n",
       "      <th>available</th>\n",
       "      <th>gems</th>\n",
       "      <th>gold</th>\n",
       "      <th>health</th>\n",
       "      <th>mercury</th>\n",
       "      <th>name</th>\n",
       "      <th>distant</th>\n",
       "      <th>air</th>\n",
       "    </tr>\n",
       "    <tr>\n",
       "      <th>name</th>\n",
       "      <th></th>\n",
       "      <th></th>\n",
       "      <th></th>\n",
       "      <th></th>\n",
       "      <th></th>\n",
       "      <th></th>\n",
       "      <th></th>\n",
       "      <th></th>\n",
       "    </tr>\n",
       "  </thead>\n",
       "  <tbody>\n",
       "    <tr>\n",
       "      <th>titan</th>\n",
       "      <td>10</td>\n",
       "      <td>3</td>\n",
       "      <td>5000</td>\n",
       "      <td>300</td>\n",
       "      <td>1</td>\n",
       "      <td>titan</td>\n",
       "      <td>1</td>\n",
       "      <td>0</td>\n",
       "    </tr>\n",
       "    <tr>\n",
       "      <th>naga</th>\n",
       "      <td>20</td>\n",
       "      <td>2</td>\n",
       "      <td>1500</td>\n",
       "      <td>120</td>\n",
       "      <td>0</td>\n",
       "      <td>naga</td>\n",
       "      <td>0</td>\n",
       "      <td>0</td>\n",
       "    </tr>\n",
       "    <tr>\n",
       "      <th>djinn</th>\n",
       "      <td>30</td>\n",
       "      <td>1</td>\n",
       "      <td>750</td>\n",
       "      <td>60</td>\n",
       "      <td>1</td>\n",
       "      <td>djinn</td>\n",
       "      <td>0</td>\n",
       "      <td>1</td>\n",
       "    </tr>\n",
       "    <tr>\n",
       "      <th>mage</th>\n",
       "      <td>55</td>\n",
       "      <td>1</td>\n",
       "      <td>500</td>\n",
       "      <td>40</td>\n",
       "      <td>1</td>\n",
       "      <td>mage</td>\n",
       "      <td>1</td>\n",
       "      <td>0</td>\n",
       "    </tr>\n",
       "    <tr>\n",
       "      <th>golem</th>\n",
       "      <td>60</td>\n",
       "      <td>0</td>\n",
       "      <td>400</td>\n",
       "      <td>35</td>\n",
       "      <td>1</td>\n",
       "      <td>golem</td>\n",
       "      <td>0</td>\n",
       "      <td>0</td>\n",
       "    </tr>\n",
       "    <tr>\n",
       "      <th>gargoyle</th>\n",
       "      <td>110</td>\n",
       "      <td>0</td>\n",
       "      <td>200</td>\n",
       "      <td>20</td>\n",
       "      <td>0</td>\n",
       "      <td>gargoyle</td>\n",
       "      <td>0</td>\n",
       "      <td>1</td>\n",
       "    </tr>\n",
       "    <tr>\n",
       "      <th>gremlin</th>\n",
       "      <td>500</td>\n",
       "      <td>0</td>\n",
       "      <td>70</td>\n",
       "      <td>4</td>\n",
       "      <td>0</td>\n",
       "      <td>gremlin</td>\n",
       "      <td>1</td>\n",
       "      <td>0</td>\n",
       "    </tr>\n",
       "  </tbody>\n",
       "</table>\n",
       "</div>"
      ],
      "text/plain": [
       "          available  gems  gold  health  mercury      name  distant  air\n",
       "name                                                                    \n",
       "titan            10     3  5000     300        1     titan        1    0\n",
       "naga             20     2  1500     120        0      naga        0    0\n",
       "djinn            30     1   750      60        1     djinn        0    1\n",
       "mage             55     1   500      40        1      mage        1    0\n",
       "golem            60     0   400      35        1     golem        0    0\n",
       "gargoyle        110     0   200      20        0  gargoyle        0    1\n",
       "gremlin         500     0    70       4        0   gremlin        1    0"
      ]
     },
     "execution_count": 3,
     "metadata": {},
     "output_type": "execute_result"
    }
   ],
   "source": [
    "units = [\n",
    "    {'name': 'titan', 'health': 300, 'gold': 5000, 'mercury': 1, 'gems': 3, 'available': 10},\n",
    "    {'name': 'naga', 'health': 120, 'gold': 1500, 'mercury': 0, 'gems': 2, 'available': 20},\n",
    "    {'name': 'djinn', 'health': 60, 'gold': 750, 'mercury': 1, 'gems': 1, 'available': 30},\n",
    "    {'name': 'mage', 'health': 40, 'gold': 500, 'mercury': 1, 'gems': 1, 'available': 55},\n",
    "    {'name': 'golem', 'health': 35, 'gold': 400, 'mercury': 1, 'gems': 0, 'available': 60},\n",
    "    {'name': 'gargoyle', 'health': 20, 'gold': 200, 'mercury': 0, 'gems': 0, 'available': 110},\n",
    "    {'name': 'gremlin', 'health': 4, 'gold': 70, 'mercury': 0, 'gems': 0, 'available': 500},\n",
    "]\n",
    "distant = ['titan', 'mage', 'gremlin']\n",
    "air = ['djinn', 'gargoyle']\n",
    "units = pd.DataFrame(units)\n",
    "units.index = units.name\n",
    "units['distant'] = 0\n",
    "units['air'] = 0\n",
    "units.loc[distant, 'distant'] = 1\n",
    "units.loc[air, 'air'] = 1\n",
    "units"
   ]
  },
  {
   "cell_type": "markdown",
   "metadata": {},
   "source": [
    "X = [Titan, Naga, Djinn, Mage, Golem, Gargoyle, Gremlin, Sold gems]"
   ]
  },
  {
   "cell_type": "code",
   "execution_count": 4,
   "metadata": {
    "collapsed": false
   },
   "outputs": [],
   "source": [
    "loss_function = -np.hstack([units.health, [0]])\n",
    "A = [(-units.health * units.distant).tolist() + [0],\n",
    "     (-units.health * units.air).tolist() + [0],\n",
    "     units.mercury.tolist() + [0],\n",
    "     units.gems.tolist() + [1],\n",
    "     units.gold.tolist() + [-gem_price]]\n",
    "b = [-distant_min_health, -air_min_health, mercury, gems, gold]\n",
    "bounds = [(0, available) for available in units.available] + [(0, gems)]"
   ]
  },
  {
   "cell_type": "code",
   "execution_count": 5,
   "metadata": {
    "collapsed": false
   },
   "outputs": [
    {
     "name": "stdout",
     "output_type": "stream",
     "text": [
      "CPU times: user 14.9 ms, sys: 4.46 ms, total: 19.4 ms\n",
      "Wall time: 17.1 ms\n"
     ]
    }
   ],
   "source": [
    "%%time\n",
    "result = scipy.optimize.linprog(loss_function, A, b, bounds=bounds)"
   ]
  },
  {
   "cell_type": "markdown",
   "metadata": {},
   "source": [
    "Решение найдено почти мгновенно."
   ]
  },
  {
   "cell_type": "code",
   "execution_count": 6,
   "metadata": {
    "collapsed": false
   },
   "outputs": [
    {
     "data": {
      "text/plain": [
       "     fun: -12875.0\n",
       " message: 'Optimization terminated successfully.'\n",
       "     nit: 13\n",
       "   slack: array([  1600.,   2000.,  23000.,      0.,      0.,      0.,     40.,\n",
       "            0.,      0.,     35.,    115.,      0.,      0.])\n",
       "  status: 0\n",
       " success: True\n",
       "       x: array([  10.,   20.,   30.,   15.,   25.,  110.,  500.,    0.])"
      ]
     },
     "execution_count": 6,
     "metadata": {},
     "output_type": "execute_result"
    }
   ],
   "source": [
    "result"
   ]
  },
  {
   "cell_type": "markdown",
   "metadata": {},
   "source": [
    "Последний элемент ответа 0 - камни продавать не нужно. Сила набранной армии: 12875.\n",
    "\n",
    "Сила существ дальнего боя / воздушной армии:"
   ]
  },
  {
   "cell_type": "code",
   "execution_count": 7,
   "metadata": {
    "collapsed": false
   },
   "outputs": [
    {
     "data": {
      "text/plain": [
       "(5600.0, 4000.0)"
      ]
     },
     "execution_count": 7,
     "metadata": {},
     "output_type": "execute_result"
    }
   ],
   "source": [
    "-np.dot(result.x, np.array(A[0])), -np.dot(result.x, A[1])"
   ]
  },
  {
   "cell_type": "markdown",
   "metadata": {},
   "source": [
    "Затраченные ресурсы:"
   ]
  },
  {
   "cell_type": "code",
   "execution_count": 8,
   "metadata": {
    "collapsed": false
   },
   "outputs": [
    {
     "data": {
      "text/plain": [
       "(80.0, 115.0, 177000.0)"
      ]
     },
     "execution_count": 8,
     "metadata": {},
     "output_type": "execute_result"
    }
   ],
   "source": [
    "np.dot(result.x, A[2]), np.dot(result.x, A[3]), np.dot(result.x, A[4])"
   ]
  },
  {
   "cell_type": "markdown",
   "metadata": {},
   "source": [
    "Ртуть и камни потратили полностью, монеты еще остались."
   ]
  },
  {
   "cell_type": "markdown",
   "metadata": {},
   "source": [
    "Внимательный читатель мог заметить, что решение не совсем честное. Задачу я увидел уже глубокой ночью и воспользовался тем инструментом, что уже знал. Так повезло, что найденное решение оказалось целочисленным. Но вообще, это не всегда так. Вот результат для задачи с такими же условиями, но когда у Дениса только 100k золота:"
   ]
  },
  {
   "cell_type": "code",
   "execution_count": 10,
   "metadata": {
    "collapsed": false
   },
   "outputs": [
    {
     "data": {
      "text/plain": [
       "array([   6.66666667,   13.26666667,    0.        ,    0.        ,\n",
       "         60.        ,  110.        ,  500.        ,   68.46666667])"
      ]
     },
     "execution_count": 10,
     "metadata": {},
     "output_type": "execute_result"
    }
   ],
   "source": [
    "result.x"
   ]
  },
  {
   "cell_type": "markdown",
   "metadata": {},
   "source": [
    "Для общего случая ILP дальше не всегда можно просто докрутить до целых чисел. А это прекрасный повод забыть про родной L-BFGS и окунуться в мир целочисленных линейных задач."
   ]
  },
  {
   "cell_type": "markdown",
   "metadata": {},
   "source": [
    "### Integer Linear Problem"
   ]
  },
  {
   "cell_type": "markdown",
   "metadata": {},
   "source": [
    "Вообще, известно как с помощью дополняющих условий (Cutting-plane method) сводить задачу к целочисленной, но делать это на scipy не стоит.\n",
    "\n",
    "Я начал копать с этой страницы: http://prod.sandia.gov/techlib/access-control.cgi/2013/138847.pdf\n",
    "И остановился сразу как только нашел слово GNU. Интересно, что основатель проекта из МАИ. Список python биндингов: https://en.wikibooks.org/wiki/GLPK/Python"
   ]
  },
  {
   "cell_type": "code",
   "execution_count": 11,
   "metadata": {
    "collapsed": true
   },
   "outputs": [],
   "source": [
    "import pulp"
   ]
  },
  {
   "cell_type": "code",
   "execution_count": 12,
   "metadata": {
    "collapsed": true
   },
   "outputs": [],
   "source": [
    "problem = pulp.LpProblem(\"Heroes III\", pulp.LpMaximize)"
   ]
  },
  {
   "cell_type": "code",
   "execution_count": 13,
   "metadata": {
    "collapsed": false
   },
   "outputs": [],
   "source": [
    "titan = pulp.LpVariable('titan', lowBound=0, upBound=units.loc['titan'].available, cat='Integer')\n",
    "naga = pulp.LpVariable('naga', lowBound=0, upBound=units.loc['naga'].available, cat='Integer')\n",
    "djinn = pulp.LpVariable('djinn', lowBound=0, upBound=units.loc['djinn'].available, cat='Integer')\n",
    "mage = pulp.LpVariable('mage', lowBound=0, upBound=units.loc['mage'].available, cat='Integer')\n",
    "golem = pulp.LpVariable('golem', lowBound=0, upBound=units.loc['golem'].available, cat='Integer')\n",
    "gargoyle = pulp.LpVariable('gargoyle', lowBound=0, upBound=units.loc['gargoyle'].available, cat='Integer')\n",
    "gremlin = pulp.LpVariable('gremlin', lowBound=0, upBound=units.loc['gremlin'].available, cat='Integer')\n",
    "sold_gems = pulp.LpVariable('sold gems', lowBound=0, upBound=gems, cat='Integer')\n",
    "army = [titan, naga, djinn, mage, golem, gargoyle, gremlin]"
   ]
  },
  {
   "cell_type": "code",
   "execution_count": 14,
   "metadata": {
    "collapsed": false
   },
   "outputs": [],
   "source": [
    "# gain function\n",
    "problem += np.dot(army, units.health.values)"
   ]
  },
  {
   "cell_type": "code",
   "execution_count": 15,
   "metadata": {
    "collapsed": false
   },
   "outputs": [],
   "source": [
    "# restrictions\n",
    "problem += np.dot(army, units.health * units.distant) >= distant_min_health\n",
    "problem += np.dot(army, units.health * units.air) >= air_min_health\n",
    "problem += np.dot(army, units.mercury) <= mercury\n",
    "problem += np.dot(army + [sold_gems], units.gems.tolist() + [1]) <= gems\n",
    "problem += np.dot(army + [sold_gems], units.gold.tolist() + [-gem_price]) <= gold"
   ]
  },
  {
   "cell_type": "code",
   "execution_count": 16,
   "metadata": {
    "collapsed": false
   },
   "outputs": [
    {
     "name": "stdout",
     "output_type": "stream",
     "text": [
      "CPU times: user 2.4 ms, sys: 7.2 ms, total: 9.6 ms\n",
      "Wall time: 23.5 ms\n"
     ]
    },
    {
     "data": {
      "text/plain": [
       "'Optimal'"
      ]
     },
     "execution_count": 16,
     "metadata": {},
     "output_type": "execute_result"
    }
   ],
   "source": [
    "%%time\n",
    "pulp.LpStatus[problem.solve()]"
   ]
  },
  {
   "cell_type": "code",
   "execution_count": 17,
   "metadata": {
    "collapsed": false
   },
   "outputs": [
    {
     "data": {
      "text/html": [
       "<div>\n",
       "<table border=\"1\" class=\"dataframe\">\n",
       "  <thead>\n",
       "    <tr style=\"text-align: right;\">\n",
       "      <th></th>\n",
       "      <th>value</th>\n",
       "    </tr>\n",
       "  </thead>\n",
       "  <tbody>\n",
       "    <tr>\n",
       "      <th>sold_gems</th>\n",
       "      <td>69.0</td>\n",
       "    </tr>\n",
       "    <tr>\n",
       "      <th>titan</th>\n",
       "      <td>7.0</td>\n",
       "    </tr>\n",
       "    <tr>\n",
       "      <th>naga</th>\n",
       "      <td>6.0</td>\n",
       "    </tr>\n",
       "    <tr>\n",
       "      <th>djinn</th>\n",
       "      <td>13.0</td>\n",
       "    </tr>\n",
       "    <tr>\n",
       "      <th>mage</th>\n",
       "      <td>0.0</td>\n",
       "    </tr>\n",
       "    <tr>\n",
       "      <th>golem</th>\n",
       "      <td>60.0</td>\n",
       "    </tr>\n",
       "    <tr>\n",
       "      <th>gargoyle</th>\n",
       "      <td>110.0</td>\n",
       "    </tr>\n",
       "    <tr>\n",
       "      <th>gremlin</th>\n",
       "      <td>496.0</td>\n",
       "    </tr>\n",
       "  </tbody>\n",
       "</table>\n",
       "</div>"
      ],
      "text/plain": [
       "           value\n",
       "sold_gems   69.0\n",
       "titan        7.0\n",
       "naga         6.0\n",
       "djinn       13.0\n",
       "mage         0.0\n",
       "golem       60.0\n",
       "gargoyle   110.0\n",
       "gremlin    496.0"
      ]
     },
     "execution_count": 17,
     "metadata": {},
     "output_type": "execute_result"
    }
   ],
   "source": [
    "solution = pd.DataFrame([{'value': parameter.value()} for parameter in problem.variables()],\n",
    "                        index=[parameter.name \n",
    "                               for parameter in problem.variables()])\n",
    "solution.loc[['sold_gems'] + units.name.tolist()]"
   ]
  },
  {
   "cell_type": "markdown",
   "metadata": {},
   "source": [
    "Теперь пришлось продавать камни."
   ]
  },
  {
   "cell_type": "code",
   "execution_count": 18,
   "metadata": {
    "collapsed": true
   },
   "outputs": [],
   "source": [
    "optimal_army = [unit.value() for unit in army]"
   ]
  },
  {
   "cell_type": "markdown",
   "metadata": {},
   "source": [
    "Дальнобойные, воздушные"
   ]
  },
  {
   "cell_type": "code",
   "execution_count": 19,
   "metadata": {
    "collapsed": false
   },
   "outputs": [
    {
     "data": {
      "text/plain": [
       "(4084.0, 2980.0)"
      ]
     },
     "execution_count": 19,
     "metadata": {},
     "output_type": "execute_result"
    }
   ],
   "source": [
    "np.dot(optimal_army, units.health * units.distant), np.dot(optimal_army, units.health * units.air)"
   ]
  },
  {
   "cell_type": "markdown",
   "metadata": {},
   "source": [
    "Затраченные ресурсы"
   ]
  },
  {
   "cell_type": "code",
   "execution_count": 20,
   "metadata": {
    "collapsed": false
   },
   "outputs": [
    {
     "data": {
      "text/plain": [
       "(80.0, 115.0, 99970.0)"
      ]
     },
     "execution_count": 20,
     "metadata": {},
     "output_type": "execute_result"
    }
   ],
   "source": [
    "np.dot(optimal_army, units.mercury), \\\n",
    "    np.dot(optimal_army + [sold_gems.value()], units.gems.tolist() + [1]), \\\n",
    "    np.dot(optimal_army + [sold_gems.value()], units.gold.tolist() + [-gem_price]), \\"
   ]
  }
 ],
 "metadata": {
  "kernelspec": {
   "display_name": "Python 2",
   "language": "python",
   "name": "python2"
  },
  "language_info": {
   "codemirror_mode": {
    "name": "ipython",
    "version": 2
   },
   "file_extension": ".py",
   "mimetype": "text/x-python",
   "name": "python",
   "nbconvert_exporter": "python",
   "pygments_lexer": "ipython2",
   "version": "2.7.12"
  }
 },
 "nbformat": 4,
 "nbformat_minor": 1
}
