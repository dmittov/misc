{
 "cells": [
  {
   "cell_type": "code",
   "execution_count": 59,
   "metadata": {
    "collapsed": true
   },
   "outputs": [],
   "source": [
    "import numpy as np\n",
    "from tensorflow.contrib.keras import models, layers"
   ]
  },
  {
   "cell_type": "code",
   "execution_count": 60,
   "metadata": {
    "collapsed": true
   },
   "outputs": [],
   "source": [
    "vk_ids = ['alexlun', 'dmittov', 'nikita.zadorin', 'rudopysov', 'vanojima', 'ogion', 'ksv73']\n",
    "\n",
    "dictionary = list({symbol for vk_id in vk_ids for symbol in vk_id})\n",
    "sym2num = {symbol: idx for idx, symbol in enumerate(dictionary)}\n",
    "symbols_count = len(dictionary)\n",
    "\n",
    "def vectorize(vk_id):\n",
    "    return np.array([sym2num[symbol] for symbol in vk_id]).astype(np.float32)"
   ]
  },
  {
   "cell_type": "code",
   "execution_count": 61,
   "metadata": {},
   "outputs": [],
   "source": [
    "SZ = np.random.randint(10, 17)\n",
    "input_layer = layers.Input(shape=(None,), name='InputLayer')\n",
    "vk_id_embedding = layers.Embedding(input_dim=symbols_count, \n",
    "                                   output_dim=SZ, \n",
    "                                   name='Embedding')(input_layer)\n",
    "rnn_grinder1 = layers.GRU(SZ, name='GRU', return_sequences=True)(vk_id_embedding)\n",
    "rnn_grinder2 = layers.LSTM(SZ, name='LSTM')(rnn_grinder1)\n",
    "\n",
    "dense1 = layers.Dense(SZ, activation='elu')(rnn_grinder2)\n",
    "dropout = layers.Dropout(rate=.5)(dense1)\n",
    "dense2 = layers.Dense(SZ, activation='elu')(dropout)\n",
    "output = layers.Dense(1, activation='sigmoid')(dense2)\n",
    "\n",
    "model = models.Model(inputs=input_layer, outputs=output)"
   ]
  },
  {
   "cell_type": "code",
   "execution_count": 62,
   "metadata": {},
   "outputs": [
    {
     "name": "stdout",
     "output_type": "stream",
     "text": [
      "_________________________________________________________________\n",
      "Layer (type)                 Output Shape              Param #   \n",
      "=================================================================\n",
      "InputLayer (InputLayer)      (None, None)              0         \n",
      "_________________________________________________________________\n",
      "Embedding (Embedding)        (None, None, 14)          322       \n",
      "_________________________________________________________________\n",
      "GRU (GRU)                    (None, None, 14)          1218      \n",
      "_________________________________________________________________\n",
      "LSTM (LSTM)                  (None, 14)                1624      \n",
      "_________________________________________________________________\n",
      "dense_9 (Dense)              (None, 14)                210       \n",
      "_________________________________________________________________\n",
      "dropout_3 (Dropout)          (None, 14)                0         \n",
      "_________________________________________________________________\n",
      "dense_10 (Dense)             (None, 14)                210       \n",
      "_________________________________________________________________\n",
      "dense_11 (Dense)             (None, 1)                 15        \n",
      "=================================================================\n",
      "Total params: 3,599\n",
      "Trainable params: 3,599\n",
      "Non-trainable params: 0\n",
      "_________________________________________________________________\n"
     ]
    }
   ],
   "source": [
    "model.summary()"
   ]
  },
  {
   "cell_type": "code",
   "execution_count": 63,
   "metadata": {
    "collapsed": true
   },
   "outputs": [],
   "source": [
    "model.compile(optimizer='adam', loss='binary_crossentropy')"
   ]
  },
  {
   "cell_type": "code",
   "execution_count": 64,
   "metadata": {},
   "outputs": [],
   "source": [
    "get_score = lambda vk_id: model.predict(vectorize(vk_id)[np.newaxis])[0][0]"
   ]
  },
  {
   "cell_type": "code",
   "execution_count": 65,
   "metadata": {},
   "outputs": [
    {
     "data": {
      "text/plain": [
       "('ogion', 0.48993602)"
      ]
     },
     "execution_count": 65,
     "metadata": {},
     "output_type": "execute_result"
    }
   ],
   "source": [
    "scores_vk_ids = zip(vk_ids, [get_score(vk_id) for vk_id in vk_ids])\n",
    "sorted_vk_ids_by_score = sorted(scores_vk_ids, key=lambda item: -item[1])\n",
    "sorted_vk_ids_by_score[0]"
   ]
  },
  {
   "cell_type": "code",
   "execution_count": 66,
   "metadata": {},
   "outputs": [
    {
     "data": {
      "text/plain": [
       "[('alexlun', 0.46793318),\n",
       " ('dmittov', 0.48569021),\n",
       " ('nikita.zadorin', 0.47153062),\n",
       " ('rudopysov', 0.48122996),\n",
       " ('vanojima', 0.47534677),\n",
       " ('ogion', 0.48993602),\n",
       " ('ksv73', 0.47680512)]"
      ]
     },
     "execution_count": 66,
     "metadata": {},
     "output_type": "execute_result"
    }
   ],
   "source": [
    "scores_vk_ids"
   ]
  },
  {
   "cell_type": "code",
   "execution_count": null,
   "metadata": {
    "collapsed": true
   },
   "outputs": [],
   "source": []
  }
 ],
 "metadata": {
  "kernelspec": {
   "display_name": "Python 2",
   "language": "python",
   "name": "python2"
  },
  "language_info": {
   "codemirror_mode": {
    "name": "ipython",
    "version": 2
   },
   "file_extension": ".py",
   "mimetype": "text/x-python",
   "name": "python",
   "nbconvert_exporter": "python",
   "pygments_lexer": "ipython2",
   "version": "2.7.12"
  }
 },
 "nbformat": 4,
 "nbformat_minor": 2
}
